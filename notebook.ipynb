{
  "cells": [
    {
      "metadata": {
        "_uuid": "4ec405bad276b83303b4ce05d0ce0ee56f2e9926",
        "_cell_guid": "95671579-0f7c-429a-ba65-11ee0319d4b9"
      },
      "cell_type": "markdown",
      "source": "Todos1:\n* load dataset and embeddings - done\n* create model and train - done\n* show result auc roc, recall, pression, training hystory - done\n* add dataset statistics/description\n* add embedings explanation\n* add neural nework explanations(images, video)\n\n* add false positive, true positive, false negative analisys (use mostly the same statistics as in the dataset statistics)\n* write result/inference\n* make experiments and save the result into google drive file\n> **Experiments ([file](https://docs.google.com/spreadsheets/d/1VnfjCM5kayhn4BFC9Eng9UdKUIE_Ymgs4PdXzMw8fVM/edit?usp=sharing))**"
    },
    {
      "metadata": {
        "scrolled": true,
        "_kg_hide-output": false,
        "_execution_state": "idle",
        "_kg_hide-input": false,
        "_uuid": "ffd8f651a43f1f33d442cffb88aca97e8fa4084e",
        "trusted": false,
        "_cell_guid": "d425209c-b89e-455c-b7a9-2c42fc459f9a"
      },
      "cell_type": "code",
      "source": "if (!require(\"keras\")) install.packages(\"keras\")\nlibrary(keras)\nif (!require(\"tidyverse\")) install.packages(\"tidyverse\")\nlibrary(tidyverse)\nif (!require(\"qdapRegex\")) install.packages(\"qdapRegex\")\nlibrary(qdapRegex)\nif (!require(\"data.table\")) install.packages(\"data.table\")\nlibrary(data.table)\nif (!require(\"caret\")) install.packages(\"caret\")\nlibrary(caret) \nlibrary(ROCR)",
      "execution_count": null,
      "outputs": []
    },
    {
      "metadata": {
        "scrolled": true,
        "_uuid": "9d9e5cddb96bde72cd26f7ad955f1688c49bd534",
        "trusted": false,
        "_cell_guid": "e530bc40-e82e-4400-8cbc-cc04ce4f8825"
      },
      "cell_type": "code",
      "source": "\ntrain_data = read_csv(\"../input/jigsaw-toxic-comment-classification-challenge/train.csv\")\ntest_data = read_csv(\"../input/jigsaw-toxic-comment-classification-challenge/test.csv\")\n\nmax_words = 130000\nmaxl = 200",
      "execution_count": null,
      "outputs": []
    },
    {
      "metadata": {
        "_uuid": "9496a3d545a58ff4d10ed37a4670515b5bc48928",
        "trusted": false,
        "_cell_guid": "a424e411-863d-4e1d-9b84-917a236443ef"
      },
      "cell_type": "code",
      "source": "wordseq = text_tokenizer(num_words = max_words) %>%\n        fit_text_tokenizer(c(train_data$comment_text,test_data$comment_text))",
      "execution_count": null,
      "outputs": []
    },
    {
      "metadata": {
        "_uuid": "e975cceab7e2961a3b0213dae3b49890f39d3363",
        "trusted": false,
        "_cell_guid": "1625167a-3701-4eff-88e1-fa68b4a250dd"
      },
      "cell_type": "code",
      "source": "#word dictionary\nword_index = wordseq$word_index\n\nx_train = texts_to_sequences(wordseq, train_data$comment_text ) %>%\n        pad_sequences( maxlen = maxl)\ny_train = as.matrix(train_data[,3:8])\n\nx_test = texts_to_sequences(wordseq, test_data$comment_text ) %>%\n        pad_sequences( maxlen = maxl)",
      "execution_count": null,
      "outputs": []
    },
    {
      "metadata": {
        "_uuid": "33357e01af38dfa1e61beaecf9fe4c326b02f81b",
        "trusted": false,
        "_cell_guid": "942bc44f-c48e-4094-9ff6-9f1743b35656"
      },
      "cell_type": "code",
      "source": "wgt = fread(\"../input/glove840b300dtxt/glove.840B.300d.txt\", data.table = FALSE)  %>%\n        rename(word=V1)  %>%\n        mutate(word=gsub(\"[[:punct:]]\",\" \", rm_white(word) ))",
      "execution_count": null,
      "outputs": []
    },
    {
      "metadata": {
        "_uuid": "d0a2b85d5dca9d4f5aa67d06c0572f8b6488bee8",
        "trusted": false,
        "_cell_guid": "c1f4df2c-a025-4677-a70b-1151d20605ba"
      },
      "cell_type": "code",
      "source": "#!For dataset description/statistics\n#https://www.kaggle.com/amachno/word-frequencies -usefull vizualization\n#https://www.kaggle.com/nulldata/identity-attack-poor-americans-pakistanis-germans\n#https://www.kaggle.com/madcap/toxic-exploration --very good\n#todo: show some stats about datasets and embedding distances",
      "execution_count": null,
      "outputs": []
    },
    {
      "metadata": {
        "_uuid": "ad34890144737b2d887f0f6232e49f878b6e5632",
        "trusted": false,
        "_cell_guid": "ef4b186a-7a59-44dd-b32c-adb7dd70ad1f"
      },
      "cell_type": "code",
      "source": "#try to split into validation and train\n# Shuffle observations   \nset.seed(484)\nindices <- sample(1:dim(x_train)[1])    \n# Split into training and validation sample\nprop_train <- .85\ntrain_indices <- 1: round(prop_train*dim(x_train)[1], 0)\nval_indices <-  (round(prop_train*dim(x_train)[1], 0)+1) : dim(x_train)[1]\n    \nx_tr <- x_train[indices[train_indices], ]    \ny_tr <- y_train[indices[train_indices], ]\n    \nx_val <- x_train[indices[val_indices], ]    \ny_val <-  y_train[indices[val_indices], ]\ny_tr <- as.matrix(y_tr)\ny_val <- as.matrix(y_val)",
      "execution_count": null,
      "outputs": []
    },
    {
      "metadata": {
        "_uuid": "666d3d3805eda6047ca3b874910490ca53be3850",
        "trusted": false,
        "_cell_guid": "5fe08224-2267-442b-a12a-b31041da043b"
      },
      "cell_type": "code",
      "source": "text_val = train_data[indices[val_indices],]\nhead(text_val)",
      "execution_count": null,
      "outputs": []
    },
    {
      "metadata": {
        "_uuid": "df3d7b672dfe3b94b45208820fddc8be75e63034",
        "trusted": false,
        "_cell_guid": "5f2db7c7-ada5-45d1-bd3a-dc8494955743"
      },
      "cell_type": "code",
      "source": "dic_words = wgt$word\nwordindex = unlist(wordseq$word_index)\n\ndic = data.frame(word=names(wordindex), key = wordindex,row.names = NULL) %>%\n        arrange(key) %>% \n        .[1:max_words,]\n\nw_embed = dic %>% \n        left_join(wgt)\n\nJ = ncol(w_embed)\nndim = J-2\nw_embed = w_embed [1:(max_words-1),3:J] %>%\n        mutate_all(as.numeric) %>%\n        mutate_all(round,6) %>%\n        #fill na with 0\n        mutate_all(funs(replace(., is.na(.), 0))) \n\ncolnames(w_embed) = paste0(\"V\",1:ndim)\nw_embed = rbind(rep(0, ndim), w_embed) %>%\n        as.matrix()",
      "execution_count": null,
      "outputs": []
    },
    {
      "metadata": {
        "_uuid": "d144ab6a70c5a912c7ef27ef70a6d6412bbc90b1",
        "trusted": false,
        "_cell_guid": "8c5e821c-c3dc-489a-ac2f-fb90417e350a"
      },
      "cell_type": "code",
      "source": "w_embed = list(array(w_embed , c(max_words, ndim)))",
      "execution_count": null,
      "outputs": []
    },
    {
      "metadata": {
        "_uuid": "55123a2a6cd67a15b5946988957510b971f59bf4",
        "_cell_guid": "e854d894-9bbb-4ed5-b3b1-51403e9949d9"
      },
      "cell_type": "markdown",
      "source": "**Embeddings**\n![image.png](https://qph.fs.quoracdn.net/main-qimg-e8b83b14d7261d75754a92d0d3605e36)",
      "attachments": {}
    },
    {
      "metadata": {
        "_uuid": "280fce48dd594962ec89ad958b787ce7e0fec479",
        "_cell_guid": "d9bdbbdf-8b86-41d2-8b3e-e25805564b12"
      },
      "cell_type": "markdown",
      "source": "Recurrent Neuronal Netowork\n![image.png](http://www.wildml.com/wp-content/uploads/2015/09/rnn.jpg)",
      "attachments": {}
    },
    {
      "metadata": {
        "_uuid": "8457718af94f710abe329394aadd3c7eb9d8187f",
        "_cell_guid": "41687479-ebe6-44c8-89d5-875abb3db93a"
      },
      "cell_type": "markdown",
      "source": "LSTM\n![lstm](http://colah.github.io/posts/2015-08-Understanding-LSTMs/img/LSTM3-var-GRU.png)"
    },
    {
      "metadata": {
        "_uuid": "a0ea0ebe5d4605a2a65471b5d37e312fd9449f0d",
        "_cell_guid": "14ed3472-5414-42fe-b5ed-5dd12b6ceee5"
      },
      "cell_type": "markdown",
      "source": "Convolutional Neural Network\n![image.png](https://image.slidesharecdn.com/dlsl2017d2l3recurrentneuralnetworksii-170125171005/95/recurrent-neural-networks-ii-d2l3-deep-learning-for-speech-and-language-upc-2017-12-638.jpg?cb=1485365099)"
    },
    {
      "metadata": {
        "_uuid": "070d65ece436a11c5b03103c33f966b9cabba80e",
        "trusted": false,
        "_cell_guid": "a2476f91-df8f-4643-9ac1-d0c5330894d8"
      },
      "cell_type": "code",
      "source": "inp = layer_input(shape = list(maxl),\n                  dtype = \"int32\", name = \"input\")\nemm = inp %>%\n        layer_embedding(input_dim = max_words, output_dim = ndim, input_length = maxl, weights = w_embed, trainable=FALSE) \nmodel = emm %>%\n        layer_spatial_dropout_1d(rate=0.1) %>%\n        bidirectional( #hyperparameter: how many layers\n                layer_gru(units = 40, #hyperparameter\n                          return_sequences = TRUE, \n                          recurrent_dropout = 0.1) \n        )# %>% \n#        layer_conv_1d( #hyperparameter: how many layers\n#            60, #hyperparameter\n#            3, #hyperparameter\n#            padding = \"valid\",\n#            activation = \"relu\",\n#            strides = 1\n#          ) \n\nmax_pool = model %>% layer_global_max_pooling_1d()\nave_pool = model %>% layer_global_average_pooling_1d()\n\noutp = layer_concatenate(list(ave_pool, max_pool)) %>%\n        layer_dense(units = 6, activation = \"sigmoid\")\n\nmodel = keras_model(inp, outp)\n\nmodel %>% compile(\n        optimizer = \"adam\",\n        loss = \"binary_crossentropy\",\n        metrics = c(\"acc\")\n)",
      "execution_count": null,
      "outputs": []
    },
    {
      "metadata": {
        "_uuid": "6ec60b701545e155f8a1f525be9a7e493eab1539",
        "_cell_guid": "145e67b7-4d2e-4e3f-9063-105596356fc1"
      },
      "cell_type": "markdown",
      "source": "**Binary cross entropy**\n![image.png](https://cdn-images-1.medium.com/max/1164/1*PK0iVgkQepmVCprtTgbsGg.png)",
      "attachments": {}
    },
    {
      "metadata": {
        "scrolled": true,
        "_uuid": "539e2615fd9682a2bc116c5d1e0731b6ff479f04",
        "trusted": false,
        "_cell_guid": "ecd3eda4-2f59-483e-a264-5c8a23c9dc02"
      },
      "cell_type": "code",
      "source": "history = model %>% fit(\n        x_tr, y_tr,\n        epochs = 2,\n        batch_size = 32,\n        #validation_split = 0.05,\n        validation_data = list(x_val,y_val),\n        callbacks = list(\n                callback_model_checkpoint(paste0(\"toxic_comment_model.h5\"), save_best_only = TRUE),\n                callback_early_stopping(monitor = \"val_loss\", min_delta = 0, patience = 0,\n                                        verbose = 0, mode = c(\"auto\", \"min\", \"max\"))\n        )\n)",
      "execution_count": null,
      "outputs": []
    },
    {
      "metadata": {
        "_uuid": "8880cfba3659b42c7c13e2861085edc669fad0eb",
        "trusted": false,
        "_cell_guid": "cff2e06b-a551-4ff4-9e59-af878fe1611e"
      },
      "cell_type": "code",
      "source": "model = load_model_hdf5(paste0(\"toxic_comment_model.h5\"))\nyhat_val  = model %>%\n        predict(x_val, batch_size = 1024) %>%\n        as.data.frame()\nprint(dim(yhat_val))",
      "execution_count": null,
      "outputs": []
    },
    {
      "metadata": {
        "_uuid": "594a0a9caf13e129bb7f58c6777d38cd4ca28859",
        "trusted": false,
        "_cell_guid": "86054790-e8de-46a3-a340-065b6361c59c"
      },
      "cell_type": "code",
      "source": "y_yval = as.data.frame(y_val) #data frame\nth = 0.5#the threshhold, if bigger take as prediction\nclassid = 1\n#head(text_val[which(y_yval[1]>th),])#true toxic comments\n#head(text_val[which(yhat_val[1]>th),])#predicted toxic comments\nhead(text_val[which(yhat_val[classid]>th & y_yval[classid]<th),])#predicted but not toxic comments",
      "execution_count": null,
      "outputs": []
    },
    {
      "metadata": {
        "_uuid": "222e2c7be5a1cf4978eb73435a0f5c5bd47fad6b",
        "trusted": false,
        "_cell_guid": "5b6bac14-7897-47ad-aba9-2fdb0feb2cf5"
      },
      "cell_type": "code",
      "source": "head(text_val[which(yhat_val[classid]<th & y_yval[classid]>th),])#not predicted but toxic comments",
      "execution_count": null,
      "outputs": []
    },
    {
      "metadata": {
        "_uuid": "983d44bcb35da5285bc23c496e8b44590a503925",
        "trusted": false,
        "_cell_guid": "cab1ac98-e81f-435e-84b9-54b21ff2d15a"
      },
      "cell_type": "code",
      "source": "head(text_val[which(yhat_val[classid]>th & y_yval[classid]>th),])# predicted and true toxic comments",
      "execution_count": null,
      "outputs": []
    },
    {
      "metadata": {
        "_uuid": "122219a0db2e8f1c5924d8dedf3bfa51ed764640",
        "trusted": false,
        "_cell_guid": "e28f4ec7-cd64-4042-a277-928b2aaa3cc7"
      },
      "cell_type": "code",
      "source": "plot(history)",
      "execution_count": null,
      "outputs": []
    },
    {
      "metadata": {
        "_uuid": "d40966aa197770b497c27b7a9ed77c3bf4ba6056",
        "trusted": false,
        "_cell_guid": "a3e3bc2b-bf7e-4ac3-af6a-8101b572c91d"
      },
      "cell_type": "code",
      "source": "aucrocResults <- function(y,y_,classes){\n    i <- 1\n    auct <- 0\n    for(cl in classes){\n        pred <- prediction(y[i], y_[i])#just first prediction\n        perf <- performance(pred, measure = \"tpr\", x.measure = \"fpr\")\n        # I know, the following code is bizarre. Just go with it.\n        auc <- performance(pred, measure = \"auc\")\n        auc <- auc@y.values[[1]]        \n        print(c(i, cl, auc))\n        auct <- auct + auc\n        i <- i + 1\n    }\n    print(c(\"total\",auct/(i-1)))\n}\nclasses = c(\"toxic\", \"severe_toxic\", \"obscene\", \"threat\",\"insult\", \"identity_hate\")\naucrocResults(yhat_val, y_yval, classes)#save the output into the spreadsheet on google drive!!!",
      "execution_count": null,
      "outputs": []
    },
    {
      "metadata": {
        "_uuid": "0584395905012558fbc188dee7f32c1be454d423",
        "_cell_guid": "22a77209-6410-4127-9c02-00738cd7be80"
      },
      "cell_type": "markdown",
      "source": "![image.png](attachment:image.png)",
      "attachments": {
        "image.png": {
          "image/png": "[encoded data removed]"
        }
      }
    },
    {
      "metadata": {
        "_uuid": "a1ab0f603d64f8a5a3fc1ba66a495f677c9f7b82",
        "trusted": false,
        "_cell_guid": "1d569891-c38a-43d0-8cfc-65fe7c55c7a4"
      },
      "cell_type": "code",
      "source": "cl = classid2\npred <- prediction(yhat_val[cl], y_yval[cl])#just first class\nperf <- performance(pred, measure = \"tpr\", x.measure = \"fpr\")\n# I know, the following code is bizarre. Just go with it.\nauc <- performance(pred, measure = \"auc\")\nauc <- auc@y.values[[1]]\n\nroc.data <- data.frame(fpr=unlist(perf@x.values),\n tpr=unlist(perf@y.values),\n model=\"GLM\")\nggplot(roc.data, aes(x=fpr, ymin=0, ymax=tpr)) +\n geom_ribbon(alpha=0.2) +\n geom_line(aes(y=tpr)) +\n ggtitle(paste0(classes[cl],\" : ROC Curve w/ AUC=\", auc))#todo: make subplots for each class!\n#https://community.alteryx.com/t5/Data-Science-Blog/ROC-Curves-in-Python-and-R/ba-p/138430 --explanations about auc roc",
      "execution_count": null,
      "outputs": []
    },
    {
      "metadata": {
        "_uuid": "81f6767850e0ae782b31541964fcef5792fbf12f",
        "trusted": false,
        "_cell_guid": "314673d3-9744-4206-81e3-91f49804a966"
      },
      "cell_type": "code",
      "source": "",
      "execution_count": null,
      "outputs": []
    }
  ],
  "metadata": {
    "kernelspec": {
      "display_name": "R",
      "language": "R",
      "name": "ir"
    },
    "language_info": {
      "mimetype": "text/x-r-source",
      "name": "R",
      "pygments_lexer": "r",
      "version": "3.4.2",
      "file_extension": ".r",
      "codemirror_mode": "r"
    }
  },
  "nbformat": 4,
  "nbformat_minor": 1
}